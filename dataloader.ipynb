{
 "cells": [
  {
   "cell_type": "markdown",
   "metadata": {},
   "source": [
    "# Imports"
   ]
  },
  {
   "cell_type": "code",
   "execution_count": null,
   "metadata": {},
   "outputs": [],
   "source": [
    "import numpy as np\n",
    "import pandas as pd"
   ]
  },
  {
   "cell_type": "markdown",
   "metadata": {},
   "source": [
    "# Get datasets"
   ]
  },
  {
   "cell_type": "code",
   "execution_count": null,
   "metadata": {},
   "outputs": [],
   "source": [
    "# # Download data from previous tests from Maritaca website\n",
    "# # If its the first time running, this will create the folder for you\n",
    "\n",
    "# # Download data from 2022 into folder datasets\n",
    "# !wget -cP ./datasets https://huggingface.co/datasets/maritaca-ai/enem/resolve/main/2022.jsonl\n",
    "# # Download data from 2023 into folder datasets\n",
    "# !wget -cP ./datasets https://huggingface.co/datasets/maritaca-ai/enem/resolve/main/2023.jsonl"
   ]
  },
  {
   "cell_type": "code",
   "execution_count": null,
   "metadata": {},
   "outputs": [],
   "source": [
    "# # Download microdata from Enem website 2023 and unzip\n",
    "# !wget -cP ./datasets https://download.inep.gov.br/microdados/microdados_enem_2023.zip\n",
    "# !unzip datasets/microdados_enem_2023.zip -d ./datasets/2023\n",
    "\n",
    "# # Download microdata from Enem website 2022 and unzip\n",
    "# !wget -cP ./datasetshttps://download.inep.gov.br/microdados/microdados_enem_2022.zip\n",
    "# !unzip datasets/microdados_enem_2022.zip -d ./datasets/2022"
   ]
  },
  {
   "cell_type": "markdown",
   "metadata": {},
   "source": [
    "# Clean dataset"
   ]
  },
  {
   "cell_type": "markdown",
   "metadata": {},
   "source": [
    "## Load questions"
   ]
  },
  {
   "cell_type": "code",
   "execution_count": null,
   "metadata": {},
   "outputs": [],
   "source": [
    "# Load data from 2022 and 2023 then concat into a unique dataframe\n",
    "df_questions_2022 = pd.read_json(\"./datasets/2022.jsonl\", lines=True)\n",
    "df_questions_2023 = pd.read_json(\"./datasets/2023.jsonl\", lines=True)\n",
    "df_questions = pd.concat([df_questions_2022, df_questions_2023], axis=0)\n",
    "df_questions.head()"
   ]
  },
  {
   "cell_type": "code",
   "execution_count": null,
   "metadata": {},
   "outputs": [],
   "source": [
    "# Get all data types\n",
    "df_questions.dtypes"
   ]
  },
  {
   "cell_type": "code",
   "execution_count": null,
   "metadata": {},
   "outputs": [],
   "source": [
    "# Get statistical data from numeric values\n",
    "df_questions.describe()\n"
   ]
  },
  {
   "cell_type": "code",
   "execution_count": null,
   "metadata": {},
   "outputs": [],
   "source": [
    "# Create a boolean column to indicate if it has figures or not\n",
    "df_questions['has_figures'] = np.where( df_questions['figures'].str.len() > 0, True, False)"
   ]
  },
  {
   "cell_type": "code",
   "execution_count": null,
   "metadata": {},
   "outputs": [],
   "source": [
    "# Drop unecessary columns\n",
    "df_questions.drop(['IU', 'ledor', 'figures'], axis=1)"
   ]
  },
  {
   "cell_type": "markdown",
   "metadata": {},
   "source": [
    "## Load Enem Microdata"
   ]
  },
  {
   "cell_type": "code",
   "execution_count": null,
   "metadata": {},
   "outputs": [],
   "source": [
    "# Load microdata from 2022 and 2023 then concat into a unique dataframe\n",
    "df_micro_2022 = pd.read_csv(\"./datasets/2022/DADOS/MICRODADOS_ENEM_2022.csv\", encoding=\"ISO-8859-1\", sep=\";\")\n",
    "df_micro_2023 = pd.read_csv(\"./datasets/2023/DADOS/MICRODADOS_ENEM_2023.csv\", encoding=\"ISO-8859-1\", sep=\";\")\n",
    "df_micro = pd.concat([df_micro_2022, df_micro_2023], axis=0)\n",
    "df_micro.head()"
   ]
  }
 ],
 "metadata": {
  "kernelspec": {
   "display_name": "grafos",
   "language": "python",
   "name": "python3"
  },
  "language_info": {
   "codemirror_mode": {
    "name": "ipython",
    "version": 3
   },
   "file_extension": ".py",
   "mimetype": "text/x-python",
   "name": "python",
   "nbconvert_exporter": "python",
   "pygments_lexer": "ipython3",
   "version": "3.10.14"
  }
 },
 "nbformat": 4,
 "nbformat_minor": 2
}
